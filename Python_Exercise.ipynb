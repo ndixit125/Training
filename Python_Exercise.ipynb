{
 "cells": [
  {
   "cell_type": "code",
   "execution_count": null,
   "metadata": {},
   "outputs": [],
   "source": []
  },
  {
   "cell_type": "raw",
   "metadata": {},
   "source": [
    "Exercise :\n",
    "\n",
    "1. Create a list of 10 employees\n",
    "2. Create tuple of salaries of these 10 employees\n",
    "3. Create a tuple of rating of these 10 employees ( 0 - 10 )\n",
    "4. Generate a dictionary of employees and their new salaries based on their ratings \n",
    "    The update to salaries should be as \n",
    "    \n",
    "    a. For rating 0 - 3 no salaries should be updated\n",
    "    \n",
    "    b. For rating 3 - 5 a 3% increment to be given\n",
    "    \n",
    "    c. For rating 5 - 7 a 5% increment to be given\n",
    "    \n",
    "    d. For rating 7 - 9 a 7% increment to be given\n",
    "    \n",
    "    e. For rating 9 and above a 7% increment and a bonus of 10% of initial salary to be given"
   ]
  },
  {
   "cell_type": "code",
   "execution_count": 2,
   "metadata": {
    "tags": []
   },
   "outputs": [
    {
     "name": "stdout",
     "output_type": "stream",
     "text": [
      "{'Matt': 51500.0, 'Henry': 80250.0, 'Thomas': 25740.0, 'Michael': 93730.0, 'John': 50400.0, 'Amy': 86000, 'Charles': 107100.0, 'Sarah': 63180.0, 'James': 82390.0, 'Susan': 132000}\n"
     ]
    }
   ],
   "source": [
    "# Variable Declaration\n",
    "employees = [\"Matt\", \"Henry\", \"Thomas\", \"Michael\", \"John\", \"Amy\", \"Charles\", \"Sarah\", \"James\", \"Susan\"]\n",
    "salaries = (50000, 75000, 22000, 91000, 48000, 86000, 102000, 54000, 77000, 132000)\n",
    "rating = (4, 7, 9, 3, 6, 2, 5, 10, 8, 1)\n",
    "my_dict = {}\n",
    "\n",
    "#Loop\n",
    "for index, value in enumerate(rating):\n",
    "    if rating[index] < 3:\n",
    "        new_salary = salaries[index]\n",
    "        my_dict[employees[index]] = new_salary\n",
    "    elif rating[index] >=9:\n",
    "        new_salary = (salaries[index]*1.07) + (salaries[index]/10)\n",
    "        my_dict[employees[index]] = new_salary\n",
    "    elif (rating[index] >= 3) and (rating[index] < 5):\n",
    "        new_salary = salaries[index]*1.03\n",
    "        my_dict[employees[index]] = new_salary\n",
    "    elif (rating[index] >= 5) and (rating[index] < 7):\n",
    "        new_salary = salaries[index]*1.05\n",
    "        my_dict[employees[index]] = new_salary\n",
    "    elif (rating[index] >= 7) and (rating[index] < 9):\n",
    "        new_salary = salaries[index]*1.07\n",
    "        my_dict[employees[index]] = new_salary\n",
    "    \n",
    "#print dictionary\n",
    "print(my_dict)\n"
   ]
  },
  {
   "cell_type": "code",
   "execution_count": null,
   "metadata": {},
   "outputs": [],
   "source": []
  }
 ],
 "metadata": {
  "kernelspec": {
   "display_name": "Python 3",
   "language": "python",
   "name": "python3"
  },
  "language_info": {
   "codemirror_mode": {
    "name": "ipython",
    "version": 3
   },
   "file_extension": ".py",
   "mimetype": "text/x-python",
   "name": "python",
   "nbconvert_exporter": "python",
   "pygments_lexer": "ipython3",
   "version": "3.7.6"
  }
 },
 "nbformat": 4,
 "nbformat_minor": 4
}
